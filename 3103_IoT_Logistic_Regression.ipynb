{
 "cells": [
  {
   "cell_type": "code",
   "execution_count": 46,
   "metadata": {},
   "outputs": [],
   "source": [
    "import pandas as pd \n",
    "import matplotlib.pyplot as plt \n",
    "import numpy as np \n",
    "import seaborn as sns \n",
    "from sklearn import preprocessing\n",
    "from sklearn import metrics\n",
    "from sklearn.linear_model import LogisticRegression\n",
    "from sklearn.model_selection import train_test_split"
   ]
  },
  {
   "cell_type": "markdown",
   "metadata": {},
   "source": [
    "## Header \n",
    "\n",
    "We are basically trying to predict the outcome (whether it is successful or not) given the independent variables such as time of attempt, the master code entered and the one-time code (OTC) entered"
   ]
  },
  {
   "cell_type": "code",
   "execution_count": 47,
   "metadata": {},
   "outputs": [
    {
     "data": {
      "text/html": [
       "<div>\n",
       "<style scoped>\n",
       "    .dataframe tbody tr th:only-of-type {\n",
       "        vertical-align: middle;\n",
       "    }\n",
       "\n",
       "    .dataframe tbody tr th {\n",
       "        vertical-align: top;\n",
       "    }\n",
       "\n",
       "    .dataframe thead th {\n",
       "        text-align: right;\n",
       "    }\n",
       "</style>\n",
       "<table border=\"1\" class=\"dataframe\">\n",
       "  <thead>\n",
       "    <tr style=\"text-align: right;\">\n",
       "      <th></th>\n",
       "      <th>Unnamed: 0</th>\n",
       "      <th>Time of attempt</th>\n",
       "      <th>Master Code</th>\n",
       "      <th>OTC</th>\n",
       "      <th>Outcome</th>\n",
       "    </tr>\n",
       "  </thead>\n",
       "  <tbody>\n",
       "    <tr>\n",
       "      <th>0</th>\n",
       "      <td>0</td>\n",
       "      <td>20:42:42</td>\n",
       "      <td>0</td>\n",
       "      <td>[]</td>\n",
       "      <td>0</td>\n",
       "    </tr>\n",
       "    <tr>\n",
       "      <th>1</th>\n",
       "      <td>0</td>\n",
       "      <td>20:42:45</td>\n",
       "      <td>0</td>\n",
       "      <td>[]</td>\n",
       "      <td>0</td>\n",
       "    </tr>\n",
       "    <tr>\n",
       "      <th>2</th>\n",
       "      <td>0</td>\n",
       "      <td>20:42:47</td>\n",
       "      <td>0</td>\n",
       "      <td>['']</td>\n",
       "      <td>0</td>\n",
       "    </tr>\n",
       "    <tr>\n",
       "      <th>3</th>\n",
       "      <td>0</td>\n",
       "      <td>20:42:48</td>\n",
       "      <td>0</td>\n",
       "      <td>['Please Enter Passcode:']</td>\n",
       "      <td>0</td>\n",
       "    </tr>\n",
       "    <tr>\n",
       "      <th>4</th>\n",
       "      <td>0</td>\n",
       "      <td>20:42:51</td>\n",
       "      <td>0</td>\n",
       "      <td>[]</td>\n",
       "      <td>0</td>\n",
       "    </tr>\n",
       "    <tr>\n",
       "      <th>...</th>\n",
       "      <td>...</td>\n",
       "      <td>...</td>\n",
       "      <td>...</td>\n",
       "      <td>...</td>\n",
       "      <td>...</td>\n",
       "    </tr>\n",
       "    <tr>\n",
       "      <th>5023</th>\n",
       "      <td>0</td>\n",
       "      <td>00:49:56</td>\n",
       "      <td>0</td>\n",
       "      <td>['Incorrect, please enter again:']</td>\n",
       "      <td>0</td>\n",
       "    </tr>\n",
       "    <tr>\n",
       "      <th>5024</th>\n",
       "      <td>0</td>\n",
       "      <td>00:49:57</td>\n",
       "      <td>0</td>\n",
       "      <td>['4254']</td>\n",
       "      <td>0</td>\n",
       "    </tr>\n",
       "    <tr>\n",
       "      <th>5025</th>\n",
       "      <td>0</td>\n",
       "      <td>00:49:58</td>\n",
       "      <td>0</td>\n",
       "      <td>['Incorrect, please enter again:']</td>\n",
       "      <td>0</td>\n",
       "    </tr>\n",
       "    <tr>\n",
       "      <th>5026</th>\n",
       "      <td>0</td>\n",
       "      <td>00:49:59</td>\n",
       "      <td>['5566']</td>\n",
       "      <td>0</td>\n",
       "      <td>1</td>\n",
       "    </tr>\n",
       "    <tr>\n",
       "      <th>5027</th>\n",
       "      <td>0</td>\n",
       "      <td>00:50:00</td>\n",
       "      <td>0</td>\n",
       "      <td>['Welcome']</td>\n",
       "      <td>0</td>\n",
       "    </tr>\n",
       "  </tbody>\n",
       "</table>\n",
       "<p>5028 rows × 5 columns</p>\n",
       "</div>"
      ],
      "text/plain": [
       "      Unnamed: 0 Time of attempt Master Code  \\\n",
       "0              0        20:42:42           0   \n",
       "1              0        20:42:45           0   \n",
       "2              0        20:42:47           0   \n",
       "3              0        20:42:48           0   \n",
       "4              0        20:42:51           0   \n",
       "...          ...             ...         ...   \n",
       "5023           0        00:49:56           0   \n",
       "5024           0        00:49:57           0   \n",
       "5025           0        00:49:58           0   \n",
       "5026           0        00:49:59    ['5566']   \n",
       "5027           0        00:50:00           0   \n",
       "\n",
       "                                     OTC  Outcome  \n",
       "0                                     []        0  \n",
       "1                                     []        0  \n",
       "2                                   ['']        0  \n",
       "3             ['Please Enter Passcode:']        0  \n",
       "4                                     []        0  \n",
       "...                                  ...      ...  \n",
       "5023  ['Incorrect, please enter again:']        0  \n",
       "5024                            ['4254']        0  \n",
       "5025  ['Incorrect, please enter again:']        0  \n",
       "5026                                   0        1  \n",
       "5027                         ['Welcome']        0  \n",
       "\n",
       "[5028 rows x 5 columns]"
      ]
     },
     "execution_count": 47,
     "metadata": {},
     "output_type": "execute_result"
    }
   ],
   "source": [
    "df = pd.read_csv('IoT data analytic.csv', header=0)\n",
    "df"
   ]
  },
  {
   "cell_type": "code",
   "execution_count": 3,
   "metadata": {},
   "outputs": [
    {
     "data": {
      "text/plain": [
       "Unnamed: 0         False\n",
       "Time of attempt    False\n",
       "Master Code        False\n",
       "OTC                False\n",
       "Outcome            False\n",
       "dtype: bool"
      ]
     },
     "execution_count": 3,
     "metadata": {},
     "output_type": "execute_result"
    }
   ],
   "source": [
    "df.isna().any() # checking for any missing values "
   ]
  },
  {
   "cell_type": "code",
   "execution_count": 4,
   "metadata": {},
   "outputs": [
    {
     "data": {
      "text/plain": [
       "array([0, 1])"
      ]
     },
     "execution_count": 4,
     "metadata": {},
     "output_type": "execute_result"
    }
   ],
   "source": [
    "df['Outcome'].unique() # checking for unique terms within the particular column "
   ]
  },
  {
   "cell_type": "code",
   "execution_count": 5,
   "metadata": {},
   "outputs": [
    {
     "data": {
      "text/plain": [
       "array(['[]', \"['']\", \"['Please Enter Passcode:']\", \"['4235']\",\n",
       "       \"['Incorrect, please enter again:']\", \"['6710']\", \"['6071']\",\n",
       "       \"['6107']\", \"['Welcome']\", \"['8745']\", \"['8909']\", \"['909']\",\n",
       "       \"['9089']\", \"['7777']\", \"['5263']\", \"['9524']\", \"['3975']\",\n",
       "       \"['3795']\", '0', \"['2356']\", \"['5556']\", \"['5666']\", \"['4565']\",\n",
       "       \"['74125']\", \"['77']\", \"['852']\", \"['8888']\", \"['3333']\",\n",
       "       \"['2145']\", \"['7212']\", \"['6985']\", \"['7785']\", \"['1542']\",\n",
       "       \"['2536']\", \"['4257']\", \"['4563']\", \"['7859']\", \"['2458']\",\n",
       "       \"['7858']\", \"['8656']\", \"['7856']\", \"['8895566']\", \"['4425']\",\n",
       "       \"['2365']\", \"['4568']\", \"['7895']\", \"['2563']\", \"['1447']\",\n",
       "       \"['8554']\", \"['8962']\", \"['5736']\", \"['8142']\", \"['9654']\",\n",
       "       \"['6947']\", \"['6973']\", \"['6974']\", \"['8910']\", \"['7536']\",\n",
       "       \"['1254']\", \"['859']\", \"['44456']\", \"['7852']\", \"['6111']\",\n",
       "       \"['611126']\", \"['88']\", \"['6655']\", \"['2354']\", \"['7541']\",\n",
       "       \"['8896']\", \"['9542']\", \"['6589']\", \"['75587']\", \"['875245']\",\n",
       "       \"['6666']\", \"['5478']\", \"['1235']\", \"['5246']\", \"['6521']\",\n",
       "       \"['4576']\", \"['3584']\", \"['45236']\", \"['44863']\", \"['3214']\",\n",
       "       \"['8754']\", \"['4896']\", \"['8852']\", \"['6355']\", \"['1225']\",\n",
       "       \"['7745']\", \"['7753']\", \"['985']\", \"['3325']\", \"['6853']\",\n",
       "       \"['7756']\", \"['9952']\", \"['4455']\", \"['2542']\", \"['6008']\",\n",
       "       \"['9444']\", \"['3522']\", \"['4521']\", \"['5555']\", \"['4254']\"],\n",
       "      dtype=object)"
      ]
     },
     "execution_count": 5,
     "metadata": {},
     "output_type": "execute_result"
    }
   ],
   "source": [
    "df['OTC'].unique()"
   ]
  },
  {
   "cell_type": "code",
   "execution_count": 6,
   "metadata": {},
   "outputs": [
    {
     "data": {
      "text/plain": [
       "0    5001\n",
       "1      27\n",
       "Name: Outcome, dtype: int64"
      ]
     },
     "execution_count": 6,
     "metadata": {},
     "output_type": "execute_result"
    }
   ],
   "source": [
    "df['Outcome'].value_counts()"
   ]
  },
  {
   "cell_type": "code",
   "execution_count": 7,
   "metadata": {},
   "outputs": [
    {
     "data": {
      "image/png": "[encoded data removed]",
      "text/plain": [
       "<Figure size 432x288 with 1 Axes>"
      ]
     },
     "metadata": {
      "needs_background": "light"
     },
     "output_type": "display_data"
    },
    {
     "data": {
      "text/plain": [
       "<Figure size 432x288 with 0 Axes>"
      ]
     },
     "metadata": {},
     "output_type": "display_data"
    }
   ],
   "source": [
    "sns.countplot(x = df['Outcome'], data = df, palette = 'hls')\n",
    "plt.show()\n",
    "plt.savefig('count_plot')"
   ]
  },
  {
   "cell_type": "code",
   "execution_count": 8,
   "metadata": {},
   "outputs": [
    {
     "data": {
      "text/plain": [
       "Unnamed: 0          int64\n",
       "Time of attempt    object\n",
       "Master Code        object\n",
       "OTC                object\n",
       "Outcome             int64\n",
       "dtype: object"
      ]
     },
     "execution_count": 8,
     "metadata": {},
     "output_type": "execute_result"
    }
   ],
   "source": [
    "df.dtypes # this is to check what data types the elements inside the dataframe are"
   ]
  },
  {
   "cell_type": "code",
   "execution_count": 9,
   "metadata": {},
   "outputs": [
    {
     "data": {
      "text/html": [
       "<div>\n",
       "<style scoped>\n",
       "    .dataframe tbody tr th:only-of-type {\n",
       "        vertical-align: middle;\n",
       "    }\n",
       "\n",
       "    .dataframe tbody tr th {\n",
       "        vertical-align: top;\n",
       "    }\n",
       "\n",
       "    .dataframe thead th {\n",
       "        text-align: right;\n",
       "    }\n",
       "</style>\n",
       "<table border=\"1\" class=\"dataframe\">\n",
       "  <thead>\n",
       "    <tr style=\"text-align: right;\">\n",
       "      <th></th>\n",
       "      <th>Time of attempt</th>\n",
       "      <th>Master Code</th>\n",
       "      <th>OTC</th>\n",
       "      <th>Outcome</th>\n",
       "    </tr>\n",
       "  </thead>\n",
       "  <tbody>\n",
       "    <tr>\n",
       "      <th>0</th>\n",
       "      <td>20:42:42</td>\n",
       "      <td>0</td>\n",
       "      <td>[]</td>\n",
       "      <td>0</td>\n",
       "    </tr>\n",
       "    <tr>\n",
       "      <th>1</th>\n",
       "      <td>20:42:45</td>\n",
       "      <td>0</td>\n",
       "      <td>[]</td>\n",
       "      <td>0</td>\n",
       "    </tr>\n",
       "    <tr>\n",
       "      <th>2</th>\n",
       "      <td>20:42:47</td>\n",
       "      <td>0</td>\n",
       "      <td>['']</td>\n",
       "      <td>0</td>\n",
       "    </tr>\n",
       "    <tr>\n",
       "      <th>3</th>\n",
       "      <td>20:42:48</td>\n",
       "      <td>0</td>\n",
       "      <td>['Please Enter Passcode:']</td>\n",
       "      <td>0</td>\n",
       "    </tr>\n",
       "    <tr>\n",
       "      <th>4</th>\n",
       "      <td>20:42:51</td>\n",
       "      <td>0</td>\n",
       "      <td>[]</td>\n",
       "      <td>0</td>\n",
       "    </tr>\n",
       "    <tr>\n",
       "      <th>...</th>\n",
       "      <td>...</td>\n",
       "      <td>...</td>\n",
       "      <td>...</td>\n",
       "      <td>...</td>\n",
       "    </tr>\n",
       "    <tr>\n",
       "      <th>5023</th>\n",
       "      <td>00:49:56</td>\n",
       "      <td>0</td>\n",
       "      <td>['Incorrect, please enter again:']</td>\n",
       "      <td>0</td>\n",
       "    </tr>\n",
       "    <tr>\n",
       "      <th>5024</th>\n",
       "      <td>00:49:57</td>\n",
       "      <td>0</td>\n",
       "      <td>['4254']</td>\n",
       "      <td>0</td>\n",
       "    </tr>\n",
       "    <tr>\n",
       "      <th>5025</th>\n",
       "      <td>00:49:58</td>\n",
       "      <td>0</td>\n",
       "      <td>['Incorrect, please enter again:']</td>\n",
       "      <td>0</td>\n",
       "    </tr>\n",
       "    <tr>\n",
       "      <th>5026</th>\n",
       "      <td>00:49:59</td>\n",
       "      <td>['5566']</td>\n",
       "      <td>0</td>\n",
       "      <td>1</td>\n",
       "    </tr>\n",
       "    <tr>\n",
       "      <th>5027</th>\n",
       "      <td>00:50:00</td>\n",
       "      <td>0</td>\n",
       "      <td>['Welcome']</td>\n",
       "      <td>0</td>\n",
       "    </tr>\n",
       "  </tbody>\n",
       "</table>\n",
       "<p>5028 rows × 4 columns</p>\n",
       "</div>"
      ],
      "text/plain": [
       "     Time of attempt Master Code                                 OTC  Outcome\n",
       "0           20:42:42           0                                  []        0\n",
       "1           20:42:45           0                                  []        0\n",
       "2           20:42:47           0                                ['']        0\n",
       "3           20:42:48           0          ['Please Enter Passcode:']        0\n",
       "4           20:42:51           0                                  []        0\n",
       "...              ...         ...                                 ...      ...\n",
       "5023        00:49:56           0  ['Incorrect, please enter again:']        0\n",
       "5024        00:49:57           0                            ['4254']        0\n",
       "5025        00:49:58           0  ['Incorrect, please enter again:']        0\n",
       "5026        00:49:59    ['5566']                                   0        1\n",
       "5027        00:50:00           0                         ['Welcome']        0\n",
       "\n",
       "[5028 rows x 4 columns]"
      ]
     },
     "execution_count": 9,
     "metadata": {},
     "output_type": "execute_result"
    }
   ],
   "source": [
    "# this is to drop the unnamed columns which in this dataframe\n",
    "df = df.drop(columns='Unnamed: 0')\n",
    "df"
   ]
  },
  {
   "cell_type": "code",
   "execution_count": 10,
   "metadata": {},
   "outputs": [
    {
     "name": "stdout",
     "output_type": "stream",
     "text": [
      "<class 'pandas.core.frame.DataFrame'>\n",
      "RangeIndex: 5028 entries, 0 to 5027\n",
      "Data columns (total 4 columns):\n",
      " #   Column           Non-Null Count  Dtype         \n",
      "---  ------           --------------  -----         \n",
      " 0   Time of attempt  5028 non-null   datetime64[ns]\n",
      " 1   Master Code      5028 non-null   object        \n",
      " 2   OTC              5028 non-null   object        \n",
      " 3   Outcome          5028 non-null   int64         \n",
      "dtypes: datetime64[ns](1), int64(1), object(2)\n",
      "memory usage: 157.2+ KB\n"
     ]
    }
   ],
   "source": [
    "# this is basically to convert the time of attempt column to be of the datetime datatype \n",
    "df['Time of attempt'] = df['Time of attempt'].astype('datetime64[ns]')\n",
    "df.info()"
   ]
  },
  {
   "cell_type": "code",
   "execution_count": 11,
   "metadata": {},
   "outputs": [
    {
     "data": {
      "text/plain": [
       "Time of attempt    datetime64[ns]\n",
       "Master Code                string\n",
       "OTC                        string\n",
       "Outcome                     Int64\n",
       "dtype: object"
      ]
     },
     "execution_count": 11,
     "metadata": {},
     "output_type": "execute_result"
    }
   ],
   "source": [
    "# getting the dataframe to be converted to a specific datatype by recommendation \n",
    "df_new = df.convert_dtypes(['Master Code', 'OTC', 'Outcome'])\n",
    "df_new.dtypes"
   ]
  },
  {
   "cell_type": "code",
   "execution_count": 12,
   "metadata": {},
   "outputs": [
    {
     "data": {
      "text/plain": [
       "0            0\n",
       "1            0\n",
       "2            0\n",
       "3            0\n",
       "4            0\n",
       "         ...  \n",
       "5023         0\n",
       "5024         0\n",
       "5025         0\n",
       "5026    '5566'\n",
       "5027         0\n",
       "Name: Master Code, Length: 5028, dtype: string"
      ]
     },
     "execution_count": 12,
     "metadata": {},
     "output_type": "execute_result"
    }
   ],
   "source": [
    "# since the element inside the 'Master Code' column has ['5566'],\n",
    "# we will begin by removing the square brackets first \n",
    "df_new['Master Code'] = df_new['Master Code'].str.strip('[]')\n",
    "df_new['Master Code']"
   ]
  },
  {
   "cell_type": "code",
   "execution_count": 13,
   "metadata": {},
   "outputs": [
    {
     "data": {
      "text/plain": [
       "0                                       \n",
       "1                                       \n",
       "2                                     ''\n",
       "3               'Please Enter Passcode:'\n",
       "4                                       \n",
       "                      ...               \n",
       "5023    'Incorrect, please enter again:'\n",
       "5024                              '4254'\n",
       "5025    'Incorrect, please enter again:'\n",
       "5026                                   0\n",
       "5027                           'Welcome'\n",
       "Name: OTC, Length: 5028, dtype: string"
      ]
     },
     "execution_count": 13,
     "metadata": {},
     "output_type": "execute_result"
    }
   ],
   "source": [
    "# we will also preprocess the OTC elements \n",
    "df_new['OTC'] = df_new['OTC'].str.strip('[]')\n",
    "df_new['OTC']"
   ]
  },
  {
   "cell_type": "code",
   "execution_count": 14,
   "metadata": {},
   "outputs": [
    {
     "data": {
      "text/plain": [
       "0          0\n",
       "1          0\n",
       "2          0\n",
       "3          0\n",
       "4          0\n",
       "        ... \n",
       "5023       0\n",
       "5024       0\n",
       "5025       0\n",
       "5026    5566\n",
       "5027       0\n",
       "Name: Master Code, Length: 5028, dtype: string"
      ]
     },
     "execution_count": 14,
     "metadata": {},
     "output_type": "execute_result"
    }
   ],
   "source": [
    "# after which we will remove the inverted commas inside \n",
    "df_new['Master Code'] = df_new['Master Code'].str.strip(\"''\")\n",
    "df_new['Master Code']"
   ]
  },
  {
   "cell_type": "code",
   "execution_count": 15,
   "metadata": {},
   "outputs": [
    {
     "data": {
      "text/plain": [
       "0                                     \n",
       "1                                     \n",
       "2                                     \n",
       "3               Please Enter Passcode:\n",
       "4                                     \n",
       "                     ...              \n",
       "5023    Incorrect, please enter again:\n",
       "5024                              4254\n",
       "5025    Incorrect, please enter again:\n",
       "5026                                 0\n",
       "5027                           Welcome\n",
       "Name: OTC, Length: 5028, dtype: string"
      ]
     },
     "execution_count": 15,
     "metadata": {},
     "output_type": "execute_result"
    }
   ],
   "source": [
    "# removing the inverted commas from OTC\n",
    "df_new['OTC'] = df_new['OTC'].str.strip(\"''\")\n",
    "df_new['OTC']"
   ]
  },
  {
   "cell_type": "code",
   "execution_count": 16,
   "metadata": {},
   "outputs": [],
   "source": [
    "# we want to remove specific strings that would not be useful from the OTC column \n",
    "df_new.drop(df_new.index[df_new['OTC'] == 'Please Enter Passcode:'], inplace = True)\n",
    "df_new.drop(df_new.index[df_new['OTC'] == 'Incorrect, please enter again:'], inplace = True)\n",
    "df_new.drop(df_new.index[df_new['OTC'] == 'Welcome'], inplace = True)"
   ]
  },
  {
   "cell_type": "code",
   "execution_count": 17,
   "metadata": {},
   "outputs": [],
   "source": [
    "# download the csv to check for any missing values\n",
    "#df_new.to_csv('test.csv')"
   ]
  },
  {
   "cell_type": "code",
   "execution_count": 18,
   "metadata": {},
   "outputs": [
    {
     "data": {
      "text/html": [
       "<div>\n",
       "<style scoped>\n",
       "    .dataframe tbody tr th:only-of-type {\n",
       "        vertical-align: middle;\n",
       "    }\n",
       "\n",
       "    .dataframe tbody tr th {\n",
       "        vertical-align: top;\n",
       "    }\n",
       "\n",
       "    .dataframe thead th {\n",
       "        text-align: right;\n",
       "    }\n",
       "</style>\n",
       "<table border=\"1\" class=\"dataframe\">\n",
       "  <thead>\n",
       "    <tr style=\"text-align: right;\">\n",
       "      <th></th>\n",
       "      <th>Time of attempt</th>\n",
       "      <th>Master Code</th>\n",
       "      <th>OTC</th>\n",
       "      <th>Outcome</th>\n",
       "    </tr>\n",
       "  </thead>\n",
       "  <tbody>\n",
       "    <tr>\n",
       "      <th>0</th>\n",
       "      <td>2020-11-30 20:42:42</td>\n",
       "      <td>0</td>\n",
       "      <td></td>\n",
       "      <td>0</td>\n",
       "    </tr>\n",
       "    <tr>\n",
       "      <th>1</th>\n",
       "      <td>2020-11-30 20:42:45</td>\n",
       "      <td>0</td>\n",
       "      <td></td>\n",
       "      <td>0</td>\n",
       "    </tr>\n",
       "    <tr>\n",
       "      <th>2</th>\n",
       "      <td>2020-11-30 20:42:47</td>\n",
       "      <td>0</td>\n",
       "      <td></td>\n",
       "      <td>0</td>\n",
       "    </tr>\n",
       "    <tr>\n",
       "      <th>4</th>\n",
       "      <td>2020-11-30 20:42:51</td>\n",
       "      <td>0</td>\n",
       "      <td></td>\n",
       "      <td>0</td>\n",
       "    </tr>\n",
       "    <tr>\n",
       "      <th>5</th>\n",
       "      <td>2020-11-30 20:42:54</td>\n",
       "      <td>0</td>\n",
       "      <td></td>\n",
       "      <td>0</td>\n",
       "    </tr>\n",
       "    <tr>\n",
       "      <th>...</th>\n",
       "      <td>...</td>\n",
       "      <td>...</td>\n",
       "      <td>...</td>\n",
       "      <td>...</td>\n",
       "    </tr>\n",
       "    <tr>\n",
       "      <th>5018</th>\n",
       "      <td>2020-11-30 00:49:51</td>\n",
       "      <td>0</td>\n",
       "      <td>5555</td>\n",
       "      <td>0</td>\n",
       "    </tr>\n",
       "    <tr>\n",
       "      <th>5020</th>\n",
       "      <td>2020-11-30 00:49:53</td>\n",
       "      <td>0</td>\n",
       "      <td>8888</td>\n",
       "      <td>0</td>\n",
       "    </tr>\n",
       "    <tr>\n",
       "      <th>5022</th>\n",
       "      <td>2020-11-30 00:49:55</td>\n",
       "      <td>0</td>\n",
       "      <td>7777</td>\n",
       "      <td>0</td>\n",
       "    </tr>\n",
       "    <tr>\n",
       "      <th>5024</th>\n",
       "      <td>2020-11-30 00:49:57</td>\n",
       "      <td>0</td>\n",
       "      <td>4254</td>\n",
       "      <td>0</td>\n",
       "    </tr>\n",
       "    <tr>\n",
       "      <th>5026</th>\n",
       "      <td>2020-11-30 00:49:59</td>\n",
       "      <td>5566</td>\n",
       "      <td>0</td>\n",
       "      <td>1</td>\n",
       "    </tr>\n",
       "  </tbody>\n",
       "</table>\n",
       "<p>4886 rows × 4 columns</p>\n",
       "</div>"
      ],
      "text/plain": [
       "         Time of attempt Master Code   OTC  Outcome\n",
       "0    2020-11-30 20:42:42           0              0\n",
       "1    2020-11-30 20:42:45           0              0\n",
       "2    2020-11-30 20:42:47           0              0\n",
       "4    2020-11-30 20:42:51           0              0\n",
       "5    2020-11-30 20:42:54           0              0\n",
       "...                  ...         ...   ...      ...\n",
       "5018 2020-11-30 00:49:51           0  5555        0\n",
       "5020 2020-11-30 00:49:53           0  8888        0\n",
       "5022 2020-11-30 00:49:55           0  7777        0\n",
       "5024 2020-11-30 00:49:57           0  4254        0\n",
       "5026 2020-11-30 00:49:59        5566     0        1\n",
       "\n",
       "[4886 rows x 4 columns]"
      ]
     },
     "execution_count": 18,
     "metadata": {},
     "output_type": "execute_result"
    }
   ],
   "source": [
    "# since there are missing values we need to remove them from the columns\n",
    "df_new.dropna(subset = ['OTC'], inplace=True)\n",
    "df_new"
   ]
  },
  {
   "cell_type": "code",
   "execution_count": 19,
   "metadata": {},
   "outputs": [
    {
     "data": {
      "text/html": [
       "<div>\n",
       "<style scoped>\n",
       "    .dataframe tbody tr th:only-of-type {\n",
       "        vertical-align: middle;\n",
       "    }\n",
       "\n",
       "    .dataframe tbody tr th {\n",
       "        vertical-align: top;\n",
       "    }\n",
       "\n",
       "    .dataframe thead th {\n",
       "        text-align: right;\n",
       "    }\n",
       "</style>\n",
       "<table border=\"1\" class=\"dataframe\">\n",
       "  <thead>\n",
       "    <tr style=\"text-align: right;\">\n",
       "      <th></th>\n",
       "      <th>Time of attempt</th>\n",
       "      <th>Master Code</th>\n",
       "      <th>OTC</th>\n",
       "      <th>Outcome</th>\n",
       "    </tr>\n",
       "  </thead>\n",
       "  <tbody>\n",
       "    <tr>\n",
       "      <th>0</th>\n",
       "      <td>2020-11-30 20:42:42</td>\n",
       "      <td>0</td>\n",
       "      <td>&lt;NA&gt;</td>\n",
       "      <td>0</td>\n",
       "    </tr>\n",
       "    <tr>\n",
       "      <th>1</th>\n",
       "      <td>2020-11-30 20:42:45</td>\n",
       "      <td>0</td>\n",
       "      <td>&lt;NA&gt;</td>\n",
       "      <td>0</td>\n",
       "    </tr>\n",
       "    <tr>\n",
       "      <th>2</th>\n",
       "      <td>2020-11-30 20:42:47</td>\n",
       "      <td>0</td>\n",
       "      <td>&lt;NA&gt;</td>\n",
       "      <td>0</td>\n",
       "    </tr>\n",
       "    <tr>\n",
       "      <th>4</th>\n",
       "      <td>2020-11-30 20:42:51</td>\n",
       "      <td>0</td>\n",
       "      <td>&lt;NA&gt;</td>\n",
       "      <td>0</td>\n",
       "    </tr>\n",
       "    <tr>\n",
       "      <th>5</th>\n",
       "      <td>2020-11-30 20:42:54</td>\n",
       "      <td>0</td>\n",
       "      <td>&lt;NA&gt;</td>\n",
       "      <td>0</td>\n",
       "    </tr>\n",
       "    <tr>\n",
       "      <th>...</th>\n",
       "      <td>...</td>\n",
       "      <td>...</td>\n",
       "      <td>...</td>\n",
       "      <td>...</td>\n",
       "    </tr>\n",
       "    <tr>\n",
       "      <th>5018</th>\n",
       "      <td>2020-11-30 00:49:51</td>\n",
       "      <td>0</td>\n",
       "      <td>5555</td>\n",
       "      <td>0</td>\n",
       "    </tr>\n",
       "    <tr>\n",
       "      <th>5020</th>\n",
       "      <td>2020-11-30 00:49:53</td>\n",
       "      <td>0</td>\n",
       "      <td>8888</td>\n",
       "      <td>0</td>\n",
       "    </tr>\n",
       "    <tr>\n",
       "      <th>5022</th>\n",
       "      <td>2020-11-30 00:49:55</td>\n",
       "      <td>0</td>\n",
       "      <td>7777</td>\n",
       "      <td>0</td>\n",
       "    </tr>\n",
       "    <tr>\n",
       "      <th>5024</th>\n",
       "      <td>2020-11-30 00:49:57</td>\n",
       "      <td>0</td>\n",
       "      <td>4254</td>\n",
       "      <td>0</td>\n",
       "    </tr>\n",
       "    <tr>\n",
       "      <th>5026</th>\n",
       "      <td>2020-11-30 00:49:59</td>\n",
       "      <td>5566</td>\n",
       "      <td>0</td>\n",
       "      <td>1</td>\n",
       "    </tr>\n",
       "  </tbody>\n",
       "</table>\n",
       "<p>4886 rows × 4 columns</p>\n",
       "</div>"
      ],
      "text/plain": [
       "         Time of attempt Master Code   OTC  Outcome\n",
       "0    2020-11-30 20:42:42           0  <NA>        0\n",
       "1    2020-11-30 20:42:45           0  <NA>        0\n",
       "2    2020-11-30 20:42:47           0  <NA>        0\n",
       "4    2020-11-30 20:42:51           0  <NA>        0\n",
       "5    2020-11-30 20:42:54           0  <NA>        0\n",
       "...                  ...         ...   ...      ...\n",
       "5018 2020-11-30 00:49:51           0  5555        0\n",
       "5020 2020-11-30 00:49:53           0  8888        0\n",
       "5022 2020-11-30 00:49:55           0  7777        0\n",
       "5024 2020-11-30 00:49:57           0  4254        0\n",
       "5026 2020-11-30 00:49:59        5566     0        1\n",
       "\n",
       "[4886 rows x 4 columns]"
      ]
     },
     "execution_count": 19,
     "metadata": {},
     "output_type": "execute_result"
    }
   ],
   "source": [
    "# so apparently these missing values are empty strings \n",
    "# so we will replace these empty strings with NaN\n",
    "df_new['OTC'].replace('', np.nan, inplace=True)\n",
    "df_new"
   ]
  },
  {
   "cell_type": "code",
   "execution_count": 20,
   "metadata": {},
   "outputs": [
    {
     "data": {
      "text/html": [
       "<div>\n",
       "<style scoped>\n",
       "    .dataframe tbody tr th:only-of-type {\n",
       "        vertical-align: middle;\n",
       "    }\n",
       "\n",
       "    .dataframe tbody tr th {\n",
       "        vertical-align: top;\n",
       "    }\n",
       "\n",
       "    .dataframe thead th {\n",
       "        text-align: right;\n",
       "    }\n",
       "</style>\n",
       "<table border=\"1\" class=\"dataframe\">\n",
       "  <thead>\n",
       "    <tr style=\"text-align: right;\">\n",
       "      <th></th>\n",
       "      <th>Time of attempt</th>\n",
       "      <th>Master Code</th>\n",
       "      <th>OTC</th>\n",
       "      <th>Outcome</th>\n",
       "    </tr>\n",
       "  </thead>\n",
       "  <tbody>\n",
       "    <tr>\n",
       "      <th>6</th>\n",
       "      <td>2020-11-30 20:42:56</td>\n",
       "      <td>0</td>\n",
       "      <td>4235</td>\n",
       "      <td>0</td>\n",
       "    </tr>\n",
       "    <tr>\n",
       "      <th>8</th>\n",
       "      <td>2020-11-30 20:42:59</td>\n",
       "      <td>0</td>\n",
       "      <td>6710</td>\n",
       "      <td>0</td>\n",
       "    </tr>\n",
       "    <tr>\n",
       "      <th>10</th>\n",
       "      <td>2020-11-30 20:43:02</td>\n",
       "      <td>0</td>\n",
       "      <td>6071</td>\n",
       "      <td>0</td>\n",
       "    </tr>\n",
       "    <tr>\n",
       "      <th>12</th>\n",
       "      <td>2020-11-30 20:43:06</td>\n",
       "      <td>0</td>\n",
       "      <td>6107</td>\n",
       "      <td>1</td>\n",
       "    </tr>\n",
       "    <tr>\n",
       "      <th>16</th>\n",
       "      <td>2020-11-30 20:43:18</td>\n",
       "      <td>0</td>\n",
       "      <td>8745</td>\n",
       "      <td>0</td>\n",
       "    </tr>\n",
       "    <tr>\n",
       "      <th>...</th>\n",
       "      <td>...</td>\n",
       "      <td>...</td>\n",
       "      <td>...</td>\n",
       "      <td>...</td>\n",
       "    </tr>\n",
       "    <tr>\n",
       "      <th>5018</th>\n",
       "      <td>2020-11-30 00:49:51</td>\n",
       "      <td>0</td>\n",
       "      <td>5555</td>\n",
       "      <td>0</td>\n",
       "    </tr>\n",
       "    <tr>\n",
       "      <th>5020</th>\n",
       "      <td>2020-11-30 00:49:53</td>\n",
       "      <td>0</td>\n",
       "      <td>8888</td>\n",
       "      <td>0</td>\n",
       "    </tr>\n",
       "    <tr>\n",
       "      <th>5022</th>\n",
       "      <td>2020-11-30 00:49:55</td>\n",
       "      <td>0</td>\n",
       "      <td>7777</td>\n",
       "      <td>0</td>\n",
       "    </tr>\n",
       "    <tr>\n",
       "      <th>5024</th>\n",
       "      <td>2020-11-30 00:49:57</td>\n",
       "      <td>0</td>\n",
       "      <td>4254</td>\n",
       "      <td>0</td>\n",
       "    </tr>\n",
       "    <tr>\n",
       "      <th>5026</th>\n",
       "      <td>2020-11-30 00:49:59</td>\n",
       "      <td>5566</td>\n",
       "      <td>0</td>\n",
       "      <td>1</td>\n",
       "    </tr>\n",
       "  </tbody>\n",
       "</table>\n",
       "<p>122 rows × 4 columns</p>\n",
       "</div>"
      ],
      "text/plain": [
       "         Time of attempt Master Code   OTC  Outcome\n",
       "6    2020-11-30 20:42:56           0  4235        0\n",
       "8    2020-11-30 20:42:59           0  6710        0\n",
       "10   2020-11-30 20:43:02           0  6071        0\n",
       "12   2020-11-30 20:43:06           0  6107        1\n",
       "16   2020-11-30 20:43:18           0  8745        0\n",
       "...                  ...         ...   ...      ...\n",
       "5018 2020-11-30 00:49:51           0  5555        0\n",
       "5020 2020-11-30 00:49:53           0  8888        0\n",
       "5022 2020-11-30 00:49:55           0  7777        0\n",
       "5024 2020-11-30 00:49:57           0  4254        0\n",
       "5026 2020-11-30 00:49:59        5566     0        1\n",
       "\n",
       "[122 rows x 4 columns]"
      ]
     },
     "execution_count": 20,
     "metadata": {},
     "output_type": "execute_result"
    }
   ],
   "source": [
    "# dropping NaN from our 'OTC' column\n",
    "# we can then convert this column into a 'int64' dtype\n",
    "df_new.dropna(subset = ['OTC'], inplace = True)\n",
    "df_new"
   ]
  },
  {
   "cell_type": "code",
   "execution_count": 21,
   "metadata": {},
   "outputs": [],
   "source": [
    "# converting both the columns into dtype 'int64'\n",
    "df_new['Master Code'] = df_new['Master Code'].astype('int64')\n",
    "df_new['Outcome'] = df_new['Outcome'].astype('int64')\n",
    "df_new['OTC'] = df_new['OTC'].astype('int64')"
   ]
  },
  {
   "cell_type": "code",
   "execution_count": 22,
   "metadata": {},
   "outputs": [
    {
     "name": "stdout",
     "output_type": "stream",
     "text": [
      "<class 'pandas.core.frame.DataFrame'>\n",
      "Int64Index: 122 entries, 6 to 5026\n",
      "Data columns (total 4 columns):\n",
      " #   Column           Non-Null Count  Dtype         \n",
      "---  ------           --------------  -----         \n",
      " 0   Time of attempt  122 non-null    datetime64[ns]\n",
      " 1   Master Code      122 non-null    int64         \n",
      " 2   OTC              122 non-null    int64         \n",
      " 3   Outcome          122 non-null    int64         \n",
      "dtypes: datetime64[ns](1), int64(3)\n",
      "memory usage: 4.8 KB\n"
     ]
    }
   ],
   "source": [
    "df_new.info()"
   ]
  },
  {
   "cell_type": "code",
   "execution_count": 23,
   "metadata": {},
   "outputs": [
    {
     "name": "stdout",
     "output_type": "stream",
     "text": [
      "percentage of success is 0.5369928400954653\n",
      "percentage of success is 99.46300715990454\n"
     ]
    }
   ],
   "source": [
    "# to keep it to 2 decimal place \n",
    "count_successful = len(df[df['Outcome'] == 1])\n",
    "count_unsuccessful = len(df[df['Outcome'] == 0])\n",
    "\n",
    "pct_of_success = count_successful/(count_successful+count_unsuccessful)\n",
    "print(\"percentage of success is\", pct_of_success*100)\n",
    "\n",
    "pct_of_unsuccessful = count_unsuccessful/(count_successful+count_unsuccessful)\n",
    "print(\"percentage of success is\", pct_of_unsuccessful*100)"
   ]
  },
  {
   "cell_type": "code",
   "execution_count": 24,
   "metadata": {},
   "outputs": [
    {
     "data": {
      "text/html": [
       "<div>\n",
       "<style scoped>\n",
       "    .dataframe tbody tr th:only-of-type {\n",
       "        vertical-align: middle;\n",
       "    }\n",
       "\n",
       "    .dataframe tbody tr th {\n",
       "        vertical-align: top;\n",
       "    }\n",
       "\n",
       "    .dataframe thead th {\n",
       "        text-align: right;\n",
       "    }\n",
       "</style>\n",
       "<table border=\"1\" class=\"dataframe\">\n",
       "  <thead>\n",
       "    <tr style=\"text-align: right;\">\n",
       "      <th></th>\n",
       "      <th>Time of attempt</th>\n",
       "      <th>Master Code</th>\n",
       "      <th>OTC</th>\n",
       "    </tr>\n",
       "    <tr>\n",
       "      <th>Outcome</th>\n",
       "      <th></th>\n",
       "      <th></th>\n",
       "      <th></th>\n",
       "    </tr>\n",
       "  </thead>\n",
       "  <tbody>\n",
       "    <tr>\n",
       "      <th>0</th>\n",
       "      <td>95</td>\n",
       "      <td>95</td>\n",
       "      <td>95</td>\n",
       "    </tr>\n",
       "    <tr>\n",
       "      <th>1</th>\n",
       "      <td>27</td>\n",
       "      <td>27</td>\n",
       "      <td>27</td>\n",
       "    </tr>\n",
       "  </tbody>\n",
       "</table>\n",
       "</div>"
      ],
      "text/plain": [
       "         Time of attempt  Master Code  OTC\n",
       "Outcome                                   \n",
       "0                     95           95   95\n",
       "1                     27           27   27"
      ]
     },
     "execution_count": 24,
     "metadata": {},
     "output_type": "execute_result"
    }
   ],
   "source": [
    "df_new.groupby('Outcome').count()"
   ]
  },
  {
   "cell_type": "code",
   "execution_count": 25,
   "metadata": {},
   "outputs": [
    {
     "data": {
      "text/plain": [
       "0    95\n",
       "1    27\n",
       "Name: Outcome, dtype: int64"
      ]
     },
     "execution_count": 25,
     "metadata": {},
     "output_type": "execute_result"
    }
   ],
   "source": [
    "df_new['Outcome'].value_counts()"
   ]
  },
  {
   "cell_type": "code",
   "execution_count": 26,
   "metadata": {},
   "outputs": [
    {
     "data": {
      "image/png": "[encoded data removed]",
      "text/plain": [
       "<Figure size 432x288 with 1 Axes>"
      ]
     },
     "metadata": {
      "needs_background": "light"
     },
     "output_type": "display_data"
    },
    {
     "data": {
      "text/plain": [
       "<Figure size 432x288 with 0 Axes>"
      ]
     },
     "metadata": {},
     "output_type": "display_data"
    }
   ],
   "source": [
    "# this graph basically tells us how many times the outcome was '1' and '0'\n",
    "sns.countplot(x = df_new['Outcome'], data = df_new, palette = 'hls')\n",
    "plt.title('Count vs Outcome Plot')\n",
    "plt.show()\n",
    "plt.savefig('count_plot')"
   ]
  },
  {
   "cell_type": "code",
   "execution_count": 27,
   "metadata": {},
   "outputs": [
    {
     "name": "stdout",
     "output_type": "stream",
     "text": [
      "percentage of success is 0.5369928400954653\n",
      "percentage of success is 99.46300715990454\n"
     ]
    }
   ],
   "source": [
    "# to change this to 2 decimal place \n",
    "count_successful = len(df[df['Outcome'] == 1])\n",
    "count_unsuccessful = len(df[df['Outcome'] == 0])\n",
    "\n",
    "pct_of_success = count_successful/(count_successful+count_unsuccessful)\n",
    "print(\"percentage of success is\", pct_of_success*100)\n",
    "\n",
    "pct_of_unsuccessful = count_unsuccessful/(count_successful+count_unsuccessful)\n",
    "print(\"percentage of success is\", pct_of_unsuccessful*100)"
   ]
  },
  {
   "cell_type": "code",
   "execution_count": 28,
   "metadata": {},
   "outputs": [],
   "source": [
    "# there was an issue in which datetime64[ns] cannot be used for prediction\n",
    "# hence these codes\n",
    "import datetime as dt\n",
    "df_new['Time of attempt'] = pd.to_datetime(df_new['Time of attempt'])\n",
    "df_new['Time of attempt']=df_new['Time of attempt'].map(dt.datetime.toordinal)"
   ]
  },
  {
   "cell_type": "code",
   "execution_count": 29,
   "metadata": {},
   "outputs": [],
   "source": [
    "# our independent variables master code, OTC and time \n",
    "# our dependent variables is outcome\n",
    "\n",
    "X = df_new[['Time of attempt', 'Master Code', 'OTC']]\n",
    "y = df_new['Outcome']"
   ]
  },
  {
   "cell_type": "code",
   "execution_count": 30,
   "metadata": {},
   "outputs": [],
   "source": [
    "from sklearn.linear_model import LogisticRegression\n",
    "from sklearn.model_selection import train_test_split\n",
    "X_train, X_test, y_train, y_test = train_test_split(X, y, test_size=0.20, random_state=5)"
   ]
  },
  {
   "cell_type": "code",
   "execution_count": 31,
   "metadata": {},
   "outputs": [
    {
     "data": {
      "text/plain": [
       "LogisticRegression()"
      ]
     },
     "execution_count": 31,
     "metadata": {},
     "output_type": "execute_result"
    }
   ],
   "source": [
    "logisticRegr = LogisticRegression()\n",
    "\n",
    "# fitting the training datasets\n",
    "logisticRegr.fit(X_train, y_train)"
   ]
  },
  {
   "cell_type": "code",
   "execution_count": 32,
   "metadata": {},
   "outputs": [
    {
     "name": "stdout",
     "output_type": "stream",
     "text": [
      "(97, 3)\n",
      "(97,)\n",
      "(25, 3)\n",
      "(25,)\n"
     ]
    }
   ],
   "source": [
    "print(X_train.shape)\n",
    "print(y_train.shape)\n",
    "print(X_test.shape)\n",
    "print(y_test.shape)"
   ]
  },
  {
   "cell_type": "code",
   "execution_count": 33,
   "metadata": {},
   "outputs": [],
   "source": [
    "# making predictions on entire dataall\n",
    "predictions = logisticRegr.predict(X_test)"
   ]
  },
  {
   "cell_type": "code",
   "execution_count": 43,
   "metadata": {},
   "outputs": [],
   "source": [
    "# create a confusion matrix with y_test and predictions\n",
    "cm = metrics.confusion_matrix(y_test, predictions)"
   ]
  },
  {
   "cell_type": "code",
   "execution_count": 44,
   "metadata": {},
   "outputs": [
    {
     "name": "stdout",
     "output_type": "stream",
     "text": [
      "-----------------------------------\n",
      "The accuracy of the model is: 0.88\n"
     ]
    }
   ],
   "source": [
    "# Use score method to get accuracy of model\n",
    "score = logisticRegr.score(X_test, y_test)\n",
    "print(\"-----------------------------------\")\n",
    "print(\"The accuracy of the model is: \" + str(score))"
   ]
  },
  {
   "cell_type": "code",
   "execution_count": 45,
   "metadata": {},
   "outputs": [
    {
     "data": {
      "image/png": "[encoded data removed]",
      "text/plain": [
       "<Figure size 1080x720 with 2 Axes>"
      ]
     },
     "metadata": {
      "needs_background": "light"
     },
     "output_type": "display_data"
    }
   ],
   "source": [
    "plt.figure(figsize=(15,10))\n",
    "sns.heatmap(cm, annot=True, fmt=\".3f\", linewidths = 1, square = True, cmap = 'Blues_r');\n",
    "# this graph actually plots the confusion matrix\n",
    "# fmt basically leaves the float's decimal points to 3 sf\n",
    "plt.ylabel('Predicted Outcome');\n",
    "plt.xlabel('Actual Outcome');\n",
    "all_sample_title = 'Accuracy Score: {0}'.format(score)\n",
    "plt.title(all_sample_title, size = 15);"
   ]
  },
  {
   "cell_type": "markdown",
   "metadata": {},
   "source": [
    "## Comments \n",
    "\n",
    "So basically a 1 for predicted outcome and a 1 for actual outcome would mean a True positive  \n",
    "    - Interpretation: You predicted positive and it’s true.\n",
    "    \n",
    "a 1 for predicted outcome and a 0 for actual outcome would mean a False positive  \n",
    "    - Interpretation: You predicted positive and it’s false. \n",
    "\n",
    "a 0 for predicted outcome and a 1 for actual outcome would mean a False negative  \n",
    "    - Interpretation: You predicted negative and it’s false.\n",
    "\n",
    "a 0 for predicted outcome and a 0 for actual outcome would mean a True negative  \n",
    "    - Interpretation: You predicted negative and it’s true."
   ]
  },
  {
   "cell_type": "markdown",
   "metadata": {},
   "source": [
    "## Accuracy \n",
    "\n",
    "Accuracy = number of correct predictions/ total number of predictions\n",
    "\n",
    "(TP + TN) / (TP + TN + FP + FN)"
   ]
  },
  {
   "cell_type": "markdown",
   "metadata": {},
   "source": [
    "## Precision\n",
    "\n",
    "Precision = TP / (TP + FP)"
   ]
  },
  {
   "cell_type": "markdown",
   "metadata": {},
   "source": [
    "## True positive rate\n",
    "\n",
    "Recall = TP/ (TP + FN)"
   ]
  },
  {
   "cell_type": "markdown",
   "metadata": {},
   "source": [
    "## True negative rate\n",
    "\n",
    "specificity = TN / (TN + FP)"
   ]
  },
  {
   "cell_type": "markdown",
   "metadata": {},
   "source": [
    "## F1 Score \n",
    "\n",
    "The F1 score is a measure of a test’s accuracy — it is the harmonic mean of precision and recall. It can have a maximum score of 1 (perfect precision and recall) and a minimum of 0. Overall, it is a measure of the preciseness and robustness of your model."
   ]
  },
  {
   "cell_type": "code",
   "execution_count": 37,
   "metadata": {},
   "outputs": [
    {
     "data": {
      "text/plain": [
       "array([[18,  0],\n",
       "       [ 3,  4]])"
      ]
     },
     "execution_count": 37,
     "metadata": {},
     "output_type": "execute_result"
    }
   ],
   "source": [
    "# Confusion Matrix\n",
    "from sklearn.metrics import confusion_matrix\n",
    "confusion_matrix(y_test, predictions)"
   ]
  },
  {
   "cell_type": "code",
   "execution_count": 38,
   "metadata": {},
   "outputs": [
    {
     "data": {
      "text/plain": [
       "0.88"
      ]
     },
     "execution_count": 38,
     "metadata": {},
     "output_type": "execute_result"
    }
   ],
   "source": [
    "# Accuracy\n",
    "from sklearn.metrics import accuracy_score\n",
    "accuracy_score(y_test, predictions)"
   ]
  },
  {
   "cell_type": "code",
   "execution_count": 39,
   "metadata": {},
   "outputs": [
    {
     "data": {
      "text/plain": [
       "array([1.        , 0.57142857])"
      ]
     },
     "execution_count": 39,
     "metadata": {},
     "output_type": "execute_result"
    }
   ],
   "source": [
    "# Recall\n",
    "from sklearn.metrics import recall_score\n",
    "recall_score(y_test, predictions, average=None)"
   ]
  },
  {
   "cell_type": "code",
   "execution_count": 40,
   "metadata": {},
   "outputs": [
    {
     "data": {
      "text/plain": [
       "array([0.85714286, 1.        ])"
      ]
     },
     "execution_count": 40,
     "metadata": {},
     "output_type": "execute_result"
    }
   ],
   "source": [
    "# Precision\n",
    "from sklearn.metrics import precision_score\n",
    "precision_score(y_test, predictions, average=None)"
   ]
  },
  {
   "cell_type": "code",
   "execution_count": 41,
   "metadata": {},
   "outputs": [
    {
     "data": {
      "text/plain": [
       "array([0.92307692, 0.72727273])"
      ]
     },
     "execution_count": 41,
     "metadata": {},
     "output_type": "execute_result"
    }
   ],
   "source": [
    "# Method 1: sklearn\n",
    "from sklearn.metrics import f1_score\n",
    "f1_score(y_test, predictions, average=None)"
   ]
  },
  {
   "cell_type": "code",
   "execution_count": 42,
   "metadata": {},
   "outputs": [
    {
     "name": "stdout",
     "output_type": "stream",
     "text": [
      "              precision    recall  f1-score   support\n",
      "\n",
      "           0       0.86      1.00      0.92        18\n",
      "           1       1.00      0.57      0.73         7\n",
      "\n",
      "    accuracy                           0.88        25\n",
      "   macro avg       0.93      0.79      0.83        25\n",
      "weighted avg       0.90      0.88      0.87        25\n",
      "\n"
     ]
    }
   ],
   "source": [
    "# Method 3: Classification report [BONUS]\n",
    "from sklearn.metrics import classification_report\n",
    "print(classification_report(y_test, predictions))"
   ]
  },
  {
   "cell_type": "code",
   "execution_count": null,
   "metadata": {},
   "outputs": [],
   "source": []
  }
 ],
 "metadata": {
  "kernelspec": {
   "display_name": "Python 3",
   "language": "python",
   "name": "python3"
  },
  "language_info": {
   "codemirror_mode": {
    "name": "ipython",
    "version": 3
   },
   "file_extension": ".py",
   "mimetype": "text/x-python",
   "name": "python",
   "nbconvert_exporter": "python",
   "pygments_lexer": "ipython3",
   "version": "3.8.3"
  }
 },
 "nbformat": 4,
 "nbformat_minor": 4
}
